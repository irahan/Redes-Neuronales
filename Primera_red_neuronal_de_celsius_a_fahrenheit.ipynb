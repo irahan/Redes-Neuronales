{
  "nbformat": 4,
  "nbformat_minor": 0,
  "metadata": {
    "colab": {
      "name": "Primera red neuronal de celsius a fahrenheit.ipynb",
      "provenance": [],
      "authorship_tag": "ABX9TyMiK7eq6eZ3OtOoPYeAzAHF",
      "include_colab_link": true
    },
    "kernelspec": {
      "name": "python3",
      "display_name": "Python 3"
    },
    "language_info": {
      "name": "python"
    },
    "accelerator": "GPU"
  },
  "cells": [
    {
      "cell_type": "markdown",
      "metadata": {
        "id": "view-in-github",
        "colab_type": "text"
      },
      "source": [
        "<a href=\"https://colab.research.google.com/github/irahan/Redes-Neuronales/blob/main/Primera_red_neuronal_de_celsius_a_fahrenheit.ipynb\" target=\"_parent\"><img src=\"https://colab.research.google.com/assets/colab-badge.svg\" alt=\"Open In Colab\"/></a>"
      ]
    },
    {
      "cell_type": "markdown",
      "source": [
        "Importar librerias"
      ],
      "metadata": {
        "id": "CNAafkYgiC9z"
      }
    },
    {
      "cell_type": "code",
      "source": [
        "import tensorflow as tf # libreria de IA\n",
        "import numpy as np #trabajar con arreglos numericos"
      ],
      "metadata": {
        "id": "8lJ0DxHdiFv4"
      },
      "execution_count": null,
      "outputs": []
    },
    {
      "cell_type": "markdown",
      "source": [
        "Introducimos los arreglos de nuestros grados celsius y farenheit"
      ],
      "metadata": {
        "id": "suwFn77-iYuN"
      }
    },
    {
      "cell_type": "code",
      "source": [
        "celsius = np.array([-40,-10,0,8,15,22,38], dtype=float)\n",
        "fahrenheit = np.array([-40,14,32,46,59,72,100], dtype=float)"
      ],
      "metadata": {
        "id": "RCWb6VhOijw5"
      },
      "execution_count": null,
      "outputs": []
    },
    {
      "cell_type": "markdown",
      "source": [
        "utilizaremos keras\n",
        "#capa Densa tiene conexiones de cada neurona a todas las neuronas de la siguiente capa\n",
        "units 1 - una sola neurona\n",
        "input_shape.  una entrada de una sola neurona\n",
        "\n",
        "modelo sequential. \n"
      ],
      "metadata": {
        "id": "Q0aGRwGoi_9p"
      }
    },
    {
      "cell_type": "code",
      "source": [
        "capa = tf.keras.layers.Dense(units=1, input_shape=[1]) \n",
        "modelo = tf.keras.Sequential([capa])\n"
      ],
      "metadata": {
        "id": "yiRaX-ttjEll"
      },
      "execution_count": null,
      "outputs": []
    },
    {
      "cell_type": "markdown",
      "source": [
        "Prepara el modelo para ser entrenado.\n",
        "indicaderos optimizador y la funcion de perdida\n",
        "optimizador Adam  le permite a la red aprender y ajustar los sesgos y pesos.\n",
        "funcion perdida\n",
        "mean_squeared_error. \n"
      ],
      "metadata": {
        "id": "pRIkjxrRj8dO"
      }
    },
    {
      "cell_type": "code",
      "source": [
        "modelo.compile(\n",
        "    optimizer = tf.keras.optimizers.Adam(0.1),\n",
        "    loss = 'mean_squared_error'\n",
        ")"
      ],
      "metadata": {
        "id": "uMJ1cavbkHOY"
      },
      "execution_count": null,
      "outputs": []
    },
    {
      "cell_type": "code",
      "source": [
        "print(\"Comenzar a entrenamiento...\")\n",
        "historial = modelo.fit(celsius, fahrenheit, epochs=1000,verbose = False)\n",
        "print(\"modelo entrenado...\")"
      ],
      "metadata": {
        "colab": {
          "base_uri": "https://localhost:8080/"
        },
        "id": "xqHKvinRkwBb",
        "outputId": "5d182c12-8ac6-4462-95f7-773827dcd846"
      },
      "execution_count": null,
      "outputs": [
        {
          "output_type": "stream",
          "name": "stdout",
          "text": [
            "Comenzar a entrenamiento...\n",
            "modelo entrenado...\n"
          ]
        }
      ]
    },
    {
      "cell_type": "markdown",
      "source": [
        "Resultado dela funcion de perdida"
      ],
      "metadata": {
        "id": "_Uh9jIdIlK6I"
      }
    },
    {
      "cell_type": "code",
      "source": [
        "import matplotlib.pyplot as plt\n",
        "\n",
        "plt.xlabel(\"# Epoca\")\n",
        "plt.ylabel(\"Magnitud de perdida\")\n",
        "plt.plot(historial.history[\"loss\"])"
      ],
      "metadata": {
        "colab": {
          "base_uri": "https://localhost:8080/",
          "height": 296
        },
        "id": "ZktxOKqhlNcX",
        "outputId": "f08b2e51-6215-4978-ff03-d621a788d40c"
      },
      "execution_count": null,
      "outputs": [
        {
          "output_type": "execute_result",
          "data": {
            "text/plain": [
              "[<matplotlib.lines.Line2D at 0x7fd0d85ef6d0>]"
            ]
          },
          "metadata": {},
          "execution_count": 6
        },
        {
          "output_type": "display_data",
          "data": {
            "image/png": "[encoded data removed]",
            "text/plain": [
              "<Figure size 432x288 with 1 Axes>"
            ]
          },
          "metadata": {
            "needs_background": "light"
          }
        }
      ]
    },
    {
      "cell_type": "code",
      "source": [
        "print(\"Hagamos una prediccion\")\n",
        "resultado = modelo.predict([100.0])\n",
        "print(\"El resultado es \" + str(resultado) + \" fahrenheit\")"
      ],
      "metadata": {
        "colab": {
          "base_uri": "https://localhost:8080/"
        },
        "id": "lFDUXBBolyHy",
        "outputId": "3c7b5474-cb34-4e02-9cd5-8567c1e67101"
      },
      "execution_count": null,
      "outputs": [
        {
          "output_type": "stream",
          "name": "stdout",
          "text": [
            "Hagamos una prediccion\n",
            "El resultado es [[211.74376]] fahrenheit\n"
          ]
        }
      ]
    },
    {
      "cell_type": "markdown",
      "source": [
        "Que datos se asignaron a la funcion y al sesgo"
      ],
      "metadata": {
        "id": "icqGOi1NmUVn"
      }
    },
    {
      "cell_type": "code",
      "source": [
        "print(\"variables internas del modelo\")\n",
        "print(capa.get_weights())"
      ],
      "metadata": {
        "colab": {
          "base_uri": "https://localhost:8080/"
        },
        "id": "zH1cPI38mYEV",
        "outputId": "9ec82573-9055-4533-c7d6-469ba3d1f6cc"
      },
      "execution_count": null,
      "outputs": [
        {
          "output_type": "stream",
          "name": "stdout",
          "text": [
            "variables internas del modelo\n",
            "[array([[1.7981563]], dtype=float32), array([31.928133], dtype=float32)]\n"
          ]
        }
      ]
    },
    {
      "cell_type": "markdown",
      "source": [
        "Agregamos mas capas y mas neuronas a la red."
      ],
      "metadata": {
        "id": "sEaxx96zoXHj"
      }
    },
    {
      "cell_type": "code",
      "source": [
        "oculta1 = tf.keras.layers.Dense(units=3, input_shape=[1])\n",
        "oculta2 = tf.keras.layers.Dense(units=3)\n",
        "salida = tf.keras.layers.Dense(units=1)\n",
        "modelo = tf.keras.Sequential([oculta1,oculta2,salida])\n"
      ],
      "metadata": {
        "id": "MllA2_9loio0"
      },
      "execution_count": null,
      "outputs": []
    },
    {
      "cell_type": "code",
      "source": [
        "modelo.compile(\n",
        "    optimizer = tf.keras.optimizers.Adam(0.1),\n",
        "    loss = 'mean_squared_error'\n",
        ")"
      ],
      "metadata": {
        "id": "DyOZiNQ3pFjg"
      },
      "execution_count": null,
      "outputs": []
    },
    {
      "cell_type": "code",
      "source": [
        "print(\"Comenzar a entrenamiento...\")\n",
        "historial = modelo.fit(celsius, fahrenheit, epochs=1000,verbose = False)\n",
        "print(\"modelo entrenado...\")"
      ],
      "metadata": {
        "colab": {
          "base_uri": "https://localhost:8080/"
        },
        "id": "kDelsy6FpK3Q",
        "outputId": "170ea727-d780-4f05-bccb-321e1d93bf3c"
      },
      "execution_count": null,
      "outputs": [
        {
          "output_type": "stream",
          "name": "stdout",
          "text": [
            "Comenzar a entrenamiento...\n",
            "modelo entrenado...\n"
          ]
        }
      ]
    },
    {
      "cell_type": "code",
      "source": [
        "import matplotlib.pyplot as plt\n",
        "\n",
        "plt.xlabel(\"# Epoca\")\n",
        "plt.ylabel(\"Magnitud de perdida\")\n",
        "plt.plot(historial.history[\"loss\"])"
      ],
      "metadata": {
        "colab": {
          "base_uri": "https://localhost:8080/",
          "height": 296
        },
        "id": "LDZ-LKdFpO3X",
        "outputId": "41c891b4-2f62-4e31-ee15-01b986c8bbb1"
      },
      "execution_count": null,
      "outputs": [
        {
          "output_type": "execute_result",
          "data": {
            "text/plain": [
              "[<matplotlib.lines.Line2D at 0x7fd0c6e26890>]"
            ]
          },
          "metadata": {},
          "execution_count": 14
        },
        {
          "output_type": "display_data",
          "data": {
            "image/png": "[encoded data removed]",
            "text/plain": [
              "<Figure size 432x288 with 1 Axes>"
            ]
          },
          "metadata": {
            "needs_background": "light"
          }
        }
      ]
    },
    {
      "cell_type": "code",
      "source": [
        "print(\"Hagamos una prediccion\")\n",
        "resultado = modelo.predict([100.0])\n",
        "print(\"El resultado es \" + str(resultado) + \" fahrenheit\")"
      ],
      "metadata": {
        "id": "P7aADBEjpeF1",
        "outputId": "e55b6915-966c-4e8e-e185-ff459df5f9ff",
        "colab": {
          "base_uri": "https://localhost:8080/"
        }
      },
      "execution_count": null,
      "outputs": [
        {
          "output_type": "stream",
          "name": "stdout",
          "text": [
            "Hagamos una prediccion\n",
            "El resultado es [[211.7474]] fahrenheit\n"
          ]
        }
      ]
    }
  ]
}